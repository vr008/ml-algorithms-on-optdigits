{
 "cells": [
  {
   "attachments": {},
   "cell_type": "markdown",
   "metadata": {},
   "source": [
    "## **Importing Libraries and Dataset**"
   ]
  },
  {
   "cell_type": "code",
   "execution_count": 154,
   "metadata": {
    "_cell_guid": "b1076dfc-b9ad-4769-8c92-a6c4dae69d19",
    "_uuid": "8f2839f25d086af736a60e9eeb907d3b93b6e0e5"
   },
   "outputs": [],
   "source": [
    "import numpy as np    # linear algebra\n",
    "import pandas as pd   # data processing"
   ]
  },
  {
   "cell_type": "code",
   "execution_count": 155,
   "metadata": {
    "_cell_guid": "79c7e3d0-c299-4dcb-8224-4455121ee9b0",
    "_uuid": "d629ff2d2480ee46fbb7e2d37f6b5fab8052498a"
   },
   "outputs": [
    {
     "data": {
      "text/html": [
       "<div>\n",
       "<style scoped>\n",
       "    .dataframe tbody tr th:only-of-type {\n",
       "        vertical-align: middle;\n",
       "    }\n",
       "\n",
       "    .dataframe tbody tr th {\n",
       "        vertical-align: top;\n",
       "    }\n",
       "\n",
       "    .dataframe thead th {\n",
       "        text-align: right;\n",
       "    }\n",
       "</style>\n",
       "<table border=\"1\" class=\"dataframe\">\n",
       "  <thead>\n",
       "    <tr style=\"text-align: right;\">\n",
       "      <th></th>\n",
       "      <th>input1</th>\n",
       "      <th>input2</th>\n",
       "      <th>input3</th>\n",
       "      <th>input4</th>\n",
       "      <th>input5</th>\n",
       "      <th>input6</th>\n",
       "      <th>input7</th>\n",
       "      <th>input8</th>\n",
       "      <th>input9</th>\n",
       "      <th>input10</th>\n",
       "      <th>...</th>\n",
       "      <th>input56</th>\n",
       "      <th>input57</th>\n",
       "      <th>input58</th>\n",
       "      <th>input59</th>\n",
       "      <th>input60</th>\n",
       "      <th>input61</th>\n",
       "      <th>input62</th>\n",
       "      <th>input63</th>\n",
       "      <th>input64</th>\n",
       "      <th>class</th>\n",
       "    </tr>\n",
       "  </thead>\n",
       "  <tbody>\n",
       "    <tr>\n",
       "      <th>0</th>\n",
       "      <td>0</td>\n",
       "      <td>1</td>\n",
       "      <td>6</td>\n",
       "      <td>15</td>\n",
       "      <td>12</td>\n",
       "      <td>1</td>\n",
       "      <td>0</td>\n",
       "      <td>0</td>\n",
       "      <td>0</td>\n",
       "      <td>7</td>\n",
       "      <td>...</td>\n",
       "      <td>0</td>\n",
       "      <td>0</td>\n",
       "      <td>0</td>\n",
       "      <td>6</td>\n",
       "      <td>14</td>\n",
       "      <td>7</td>\n",
       "      <td>1</td>\n",
       "      <td>0</td>\n",
       "      <td>0</td>\n",
       "      <td>0</td>\n",
       "    </tr>\n",
       "    <tr>\n",
       "      <th>1</th>\n",
       "      <td>0</td>\n",
       "      <td>0</td>\n",
       "      <td>10</td>\n",
       "      <td>16</td>\n",
       "      <td>6</td>\n",
       "      <td>0</td>\n",
       "      <td>0</td>\n",
       "      <td>0</td>\n",
       "      <td>0</td>\n",
       "      <td>7</td>\n",
       "      <td>...</td>\n",
       "      <td>0</td>\n",
       "      <td>0</td>\n",
       "      <td>0</td>\n",
       "      <td>10</td>\n",
       "      <td>16</td>\n",
       "      <td>15</td>\n",
       "      <td>3</td>\n",
       "      <td>0</td>\n",
       "      <td>0</td>\n",
       "      <td>0</td>\n",
       "    </tr>\n",
       "    <tr>\n",
       "      <th>2</th>\n",
       "      <td>0</td>\n",
       "      <td>0</td>\n",
       "      <td>8</td>\n",
       "      <td>15</td>\n",
       "      <td>16</td>\n",
       "      <td>13</td>\n",
       "      <td>0</td>\n",
       "      <td>0</td>\n",
       "      <td>0</td>\n",
       "      <td>1</td>\n",
       "      <td>...</td>\n",
       "      <td>0</td>\n",
       "      <td>0</td>\n",
       "      <td>0</td>\n",
       "      <td>9</td>\n",
       "      <td>14</td>\n",
       "      <td>0</td>\n",
       "      <td>0</td>\n",
       "      <td>0</td>\n",
       "      <td>0</td>\n",
       "      <td>7</td>\n",
       "    </tr>\n",
       "    <tr>\n",
       "      <th>3</th>\n",
       "      <td>0</td>\n",
       "      <td>0</td>\n",
       "      <td>0</td>\n",
       "      <td>3</td>\n",
       "      <td>11</td>\n",
       "      <td>16</td>\n",
       "      <td>0</td>\n",
       "      <td>0</td>\n",
       "      <td>0</td>\n",
       "      <td>0</td>\n",
       "      <td>...</td>\n",
       "      <td>0</td>\n",
       "      <td>0</td>\n",
       "      <td>0</td>\n",
       "      <td>0</td>\n",
       "      <td>1</td>\n",
       "      <td>15</td>\n",
       "      <td>2</td>\n",
       "      <td>0</td>\n",
       "      <td>0</td>\n",
       "      <td>4</td>\n",
       "    </tr>\n",
       "    <tr>\n",
       "      <th>4</th>\n",
       "      <td>0</td>\n",
       "      <td>0</td>\n",
       "      <td>5</td>\n",
       "      <td>14</td>\n",
       "      <td>4</td>\n",
       "      <td>0</td>\n",
       "      <td>0</td>\n",
       "      <td>0</td>\n",
       "      <td>0</td>\n",
       "      <td>0</td>\n",
       "      <td>...</td>\n",
       "      <td>0</td>\n",
       "      <td>0</td>\n",
       "      <td>0</td>\n",
       "      <td>4</td>\n",
       "      <td>12</td>\n",
       "      <td>14</td>\n",
       "      <td>7</td>\n",
       "      <td>0</td>\n",
       "      <td>0</td>\n",
       "      <td>6</td>\n",
       "    </tr>\n",
       "    <tr>\n",
       "      <th>5</th>\n",
       "      <td>0</td>\n",
       "      <td>0</td>\n",
       "      <td>11</td>\n",
       "      <td>16</td>\n",
       "      <td>10</td>\n",
       "      <td>1</td>\n",
       "      <td>0</td>\n",
       "      <td>0</td>\n",
       "      <td>0</td>\n",
       "      <td>4</td>\n",
       "      <td>...</td>\n",
       "      <td>3</td>\n",
       "      <td>0</td>\n",
       "      <td>0</td>\n",
       "      <td>10</td>\n",
       "      <td>16</td>\n",
       "      <td>16</td>\n",
       "      <td>16</td>\n",
       "      <td>16</td>\n",
       "      <td>6</td>\n",
       "      <td>2</td>\n",
       "    </tr>\n",
       "    <tr>\n",
       "      <th>6</th>\n",
       "      <td>0</td>\n",
       "      <td>0</td>\n",
       "      <td>1</td>\n",
       "      <td>11</td>\n",
       "      <td>13</td>\n",
       "      <td>11</td>\n",
       "      <td>7</td>\n",
       "      <td>0</td>\n",
       "      <td>0</td>\n",
       "      <td>0</td>\n",
       "      <td>...</td>\n",
       "      <td>0</td>\n",
       "      <td>0</td>\n",
       "      <td>0</td>\n",
       "      <td>1</td>\n",
       "      <td>13</td>\n",
       "      <td>5</td>\n",
       "      <td>0</td>\n",
       "      <td>0</td>\n",
       "      <td>0</td>\n",
       "      <td>5</td>\n",
       "    </tr>\n",
       "    <tr>\n",
       "      <th>7</th>\n",
       "      <td>0</td>\n",
       "      <td>0</td>\n",
       "      <td>8</td>\n",
       "      <td>10</td>\n",
       "      <td>8</td>\n",
       "      <td>7</td>\n",
       "      <td>2</td>\n",
       "      <td>0</td>\n",
       "      <td>0</td>\n",
       "      <td>1</td>\n",
       "      <td>...</td>\n",
       "      <td>0</td>\n",
       "      <td>0</td>\n",
       "      <td>0</td>\n",
       "      <td>4</td>\n",
       "      <td>13</td>\n",
       "      <td>8</td>\n",
       "      <td>0</td>\n",
       "      <td>0</td>\n",
       "      <td>0</td>\n",
       "      <td>5</td>\n",
       "    </tr>\n",
       "    <tr>\n",
       "      <th>8</th>\n",
       "      <td>0</td>\n",
       "      <td>0</td>\n",
       "      <td>15</td>\n",
       "      <td>2</td>\n",
       "      <td>14</td>\n",
       "      <td>13</td>\n",
       "      <td>2</td>\n",
       "      <td>0</td>\n",
       "      <td>0</td>\n",
       "      <td>0</td>\n",
       "      <td>...</td>\n",
       "      <td>0</td>\n",
       "      <td>0</td>\n",
       "      <td>0</td>\n",
       "      <td>10</td>\n",
       "      <td>12</td>\n",
       "      <td>5</td>\n",
       "      <td>0</td>\n",
       "      <td>0</td>\n",
       "      <td>0</td>\n",
       "      <td>0</td>\n",
       "    </tr>\n",
       "    <tr>\n",
       "      <th>9</th>\n",
       "      <td>0</td>\n",
       "      <td>0</td>\n",
       "      <td>3</td>\n",
       "      <td>13</td>\n",
       "      <td>13</td>\n",
       "      <td>2</td>\n",
       "      <td>0</td>\n",
       "      <td>0</td>\n",
       "      <td>0</td>\n",
       "      <td>6</td>\n",
       "      <td>...</td>\n",
       "      <td>0</td>\n",
       "      <td>0</td>\n",
       "      <td>0</td>\n",
       "      <td>3</td>\n",
       "      <td>15</td>\n",
       "      <td>11</td>\n",
       "      <td>6</td>\n",
       "      <td>0</td>\n",
       "      <td>0</td>\n",
       "      <td>8</td>\n",
       "    </tr>\n",
       "  </tbody>\n",
       "</table>\n",
       "<p>10 rows × 65 columns</p>\n",
       "</div>"
      ],
      "text/plain": [
       "   input1  input2  input3  input4  input5  input6  input7  input8  input9   \n",
       "0       0       1       6      15      12       1       0       0       0  \\\n",
       "1       0       0      10      16       6       0       0       0       0   \n",
       "2       0       0       8      15      16      13       0       0       0   \n",
       "3       0       0       0       3      11      16       0       0       0   \n",
       "4       0       0       5      14       4       0       0       0       0   \n",
       "5       0       0      11      16      10       1       0       0       0   \n",
       "6       0       0       1      11      13      11       7       0       0   \n",
       "7       0       0       8      10       8       7       2       0       0   \n",
       "8       0       0      15       2      14      13       2       0       0   \n",
       "9       0       0       3      13      13       2       0       0       0   \n",
       "\n",
       "   input10  ...  input56  input57  input58  input59  input60  input61   \n",
       "0        7  ...        0        0        0        6       14        7  \\\n",
       "1        7  ...        0        0        0       10       16       15   \n",
       "2        1  ...        0        0        0        9       14        0   \n",
       "3        0  ...        0        0        0        0        1       15   \n",
       "4        0  ...        0        0        0        4       12       14   \n",
       "5        4  ...        3        0        0       10       16       16   \n",
       "6        0  ...        0        0        0        1       13        5   \n",
       "7        1  ...        0        0        0        4       13        8   \n",
       "8        0  ...        0        0        0       10       12        5   \n",
       "9        6  ...        0        0        0        3       15       11   \n",
       "\n",
       "   input62  input63  input64  class  \n",
       "0        1        0        0      0  \n",
       "1        3        0        0      0  \n",
       "2        0        0        0      7  \n",
       "3        2        0        0      4  \n",
       "4        7        0        0      6  \n",
       "5       16       16        6      2  \n",
       "6        0        0        0      5  \n",
       "7        0        0        0      5  \n",
       "8        0        0        0      0  \n",
       "9        6        0        0      8  \n",
       "\n",
       "[10 rows x 65 columns]"
      ]
     },
     "execution_count": 155,
     "metadata": {},
     "output_type": "execute_result"
    }
   ],
   "source": [
    "# Load the dataset into digits\n",
    "digits = pd.read_csv('optdigits_csv.csv')\n",
    "digits.head(10)"
   ]
  },
  {
   "cell_type": "code",
   "execution_count": 156,
   "metadata": {
    "_uuid": "7544f2b1bfa05c32df5f523591a0a69b36cbf5ea"
   },
   "outputs": [
    {
     "name": "stdout",
     "output_type": "stream",
     "text": [
      "Index(['input1', 'input2', 'input3', 'input4', 'input5', 'input6', 'input7',\n",
      "       'input8', 'input9', 'input10', 'input11', 'input12', 'input13',\n",
      "       'input14', 'input15', 'input16', 'input17', 'input18', 'input19',\n",
      "       'input20', 'input21', 'input22', 'input23', 'input24', 'input25',\n",
      "       'input26', 'input27', 'input28', 'input29', 'input30', 'input31',\n",
      "       'input32', 'input33', 'input34', 'input35', 'input36', 'input37',\n",
      "       'input38', 'input39', 'input40', 'input41', 'input42', 'input43',\n",
      "       'input44', 'input45', 'input46', 'input47', 'input48', 'input49',\n",
      "       'input50', 'input51', 'input52', 'input53', 'input54', 'input55',\n",
      "       'input56', 'input57', 'input58', 'input59', 'input60', 'input61',\n",
      "       'input62', 'input63', 'input64', 'class'],\n",
      "      dtype='object')\n"
     ]
    }
   ],
   "source": [
    "# Print the keys of the dataset\n",
    "print(digits.keys())"
   ]
  },
  {
   "cell_type": "code",
   "execution_count": 157,
   "metadata": {
    "_uuid": "f43de6af1ee98a625dba239eaecc84a0d64e7ef5"
   },
   "outputs": [
    {
     "name": "stdout",
     "output_type": "stream",
     "text": [
      "(5620, 65)\n"
     ]
    }
   ],
   "source": [
    "# Print the shape of the dataset\n",
    "print(digits.shape)"
   ]
  },
  {
   "attachments": {},
   "cell_type": "markdown",
   "metadata": {},
   "source": [
    "Each image is 8×8 = 64 pixels in size. So for each image. There is 64 input fields and 1 class label to identify the digit that the number represents.<br>\n",
    "So, 64 + 1 = 65 Columns (Features + Class).\n",
    "<br>\n",
    "Also, There are 5620 Rows (Images). "
   ]
  },
  {
   "cell_type": "code",
   "execution_count": 158,
   "metadata": {},
   "outputs": [
    {
     "name": "stdout",
     "output_type": "stream",
     "text": [
      "<class 'pandas.core.frame.DataFrame'>\n",
      "RangeIndex: 5620 entries, 0 to 5619\n",
      "Data columns (total 65 columns):\n",
      " #   Column   Non-Null Count  Dtype\n",
      "---  ------   --------------  -----\n",
      " 0   input1   5620 non-null   int64\n",
      " 1   input2   5620 non-null   int64\n",
      " 2   input3   5620 non-null   int64\n",
      " 3   input4   5620 non-null   int64\n",
      " 4   input5   5620 non-null   int64\n",
      " 5   input6   5620 non-null   int64\n",
      " 6   input7   5620 non-null   int64\n",
      " 7   input8   5620 non-null   int64\n",
      " 8   input9   5620 non-null   int64\n",
      " 9   input10  5620 non-null   int64\n",
      " 10  input11  5620 non-null   int64\n",
      " 11  input12  5620 non-null   int64\n",
      " 12  input13  5620 non-null   int64\n",
      " 13  input14  5620 non-null   int64\n",
      " 14  input15  5620 non-null   int64\n",
      " 15  input16  5620 non-null   int64\n",
      " 16  input17  5620 non-null   int64\n",
      " 17  input18  5620 non-null   int64\n",
      " 18  input19  5620 non-null   int64\n",
      " 19  input20  5620 non-null   int64\n",
      " 20  input21  5620 non-null   int64\n",
      " 21  input22  5620 non-null   int64\n",
      " 22  input23  5620 non-null   int64\n",
      " 23  input24  5620 non-null   int64\n",
      " 24  input25  5620 non-null   int64\n",
      " 25  input26  5620 non-null   int64\n",
      " 26  input27  5620 non-null   int64\n",
      " 27  input28  5620 non-null   int64\n",
      " 28  input29  5620 non-null   int64\n",
      " 29  input30  5620 non-null   int64\n",
      " 30  input31  5620 non-null   int64\n",
      " 31  input32  5620 non-null   int64\n",
      " 32  input33  5620 non-null   int64\n",
      " 33  input34  5620 non-null   int64\n",
      " 34  input35  5620 non-null   int64\n",
      " 35  input36  5620 non-null   int64\n",
      " 36  input37  5620 non-null   int64\n",
      " 37  input38  5620 non-null   int64\n",
      " 38  input39  5620 non-null   int64\n",
      " 39  input40  5620 non-null   int64\n",
      " 40  input41  5620 non-null   int64\n",
      " 41  input42  5620 non-null   int64\n",
      " 42  input43  5620 non-null   int64\n",
      " 43  input44  5620 non-null   int64\n",
      " 44  input45  5620 non-null   int64\n",
      " 45  input46  5620 non-null   int64\n",
      " 46  input47  5620 non-null   int64\n",
      " 47  input48  5620 non-null   int64\n",
      " 48  input49  5620 non-null   int64\n",
      " 49  input50  5620 non-null   int64\n",
      " 50  input51  5620 non-null   int64\n",
      " 51  input52  5620 non-null   int64\n",
      " 52  input53  5620 non-null   int64\n",
      " 53  input54  5620 non-null   int64\n",
      " 54  input55  5620 non-null   int64\n",
      " 55  input56  5620 non-null   int64\n",
      " 56  input57  5620 non-null   int64\n",
      " 57  input58  5620 non-null   int64\n",
      " 58  input59  5620 non-null   int64\n",
      " 59  input60  5620 non-null   int64\n",
      " 60  input61  5620 non-null   int64\n",
      " 61  input62  5620 non-null   int64\n",
      " 62  input63  5620 non-null   int64\n",
      " 63  input64  5620 non-null   int64\n",
      " 64  class    5620 non-null   int64\n",
      "dtypes: int64(65)\n",
      "memory usage: 2.8 MB\n"
     ]
    }
   ],
   "source": [
    "# Get infor by using info() method\n",
    "digits.info()"
   ]
  },
  {
   "cell_type": "code",
   "execution_count": 159,
   "metadata": {},
   "outputs": [
    {
     "data": {
      "text/html": [
       "<div>\n",
       "<style scoped>\n",
       "    .dataframe tbody tr th:only-of-type {\n",
       "        vertical-align: middle;\n",
       "    }\n",
       "\n",
       "    .dataframe tbody tr th {\n",
       "        vertical-align: top;\n",
       "    }\n",
       "\n",
       "    .dataframe thead th {\n",
       "        text-align: right;\n",
       "    }\n",
       "</style>\n",
       "<table border=\"1\" class=\"dataframe\">\n",
       "  <thead>\n",
       "    <tr style=\"text-align: right;\">\n",
       "      <th></th>\n",
       "      <th>count</th>\n",
       "      <th>mean</th>\n",
       "      <th>std</th>\n",
       "      <th>min</th>\n",
       "      <th>25%</th>\n",
       "      <th>50%</th>\n",
       "      <th>75%</th>\n",
       "      <th>max</th>\n",
       "    </tr>\n",
       "  </thead>\n",
       "  <tbody>\n",
       "    <tr>\n",
       "      <th>input1</th>\n",
       "      <td>5620.0</td>\n",
       "      <td>0.000000</td>\n",
       "      <td>0.000000</td>\n",
       "      <td>0.0</td>\n",
       "      <td>0.0</td>\n",
       "      <td>0.0</td>\n",
       "      <td>0.0</td>\n",
       "      <td>0.0</td>\n",
       "    </tr>\n",
       "    <tr>\n",
       "      <th>input2</th>\n",
       "      <td>5620.0</td>\n",
       "      <td>0.302135</td>\n",
       "      <td>0.879962</td>\n",
       "      <td>0.0</td>\n",
       "      <td>0.0</td>\n",
       "      <td>0.0</td>\n",
       "      <td>0.0</td>\n",
       "      <td>8.0</td>\n",
       "    </tr>\n",
       "    <tr>\n",
       "      <th>input3</th>\n",
       "      <td>5620.0</td>\n",
       "      <td>5.393238</td>\n",
       "      <td>4.672719</td>\n",
       "      <td>0.0</td>\n",
       "      <td>1.0</td>\n",
       "      <td>5.0</td>\n",
       "      <td>9.0</td>\n",
       "      <td>16.0</td>\n",
       "    </tr>\n",
       "    <tr>\n",
       "      <th>input4</th>\n",
       "      <td>5620.0</td>\n",
       "      <td>11.815480</td>\n",
       "      <td>4.255952</td>\n",
       "      <td>0.0</td>\n",
       "      <td>10.0</td>\n",
       "      <td>13.0</td>\n",
       "      <td>15.0</td>\n",
       "      <td>16.0</td>\n",
       "    </tr>\n",
       "    <tr>\n",
       "      <th>input5</th>\n",
       "      <td>5620.0</td>\n",
       "      <td>11.578292</td>\n",
       "      <td>4.462546</td>\n",
       "      <td>0.0</td>\n",
       "      <td>9.0</td>\n",
       "      <td>13.0</td>\n",
       "      <td>15.0</td>\n",
       "      <td>16.0</td>\n",
       "    </tr>\n",
       "    <tr>\n",
       "      <th>...</th>\n",
       "      <td>...</td>\n",
       "      <td>...</td>\n",
       "      <td>...</td>\n",
       "      <td>...</td>\n",
       "      <td>...</td>\n",
       "      <td>...</td>\n",
       "      <td>...</td>\n",
       "      <td>...</td>\n",
       "    </tr>\n",
       "    <tr>\n",
       "      <th>input61</th>\n",
       "      <td>5620.0</td>\n",
       "      <td>11.572420</td>\n",
       "      <td>4.975675</td>\n",
       "      <td>0.0</td>\n",
       "      <td>9.0</td>\n",
       "      <td>13.0</td>\n",
       "      <td>16.0</td>\n",
       "      <td>16.0</td>\n",
       "    </tr>\n",
       "    <tr>\n",
       "      <th>input62</th>\n",
       "      <td>5620.0</td>\n",
       "      <td>6.720819</td>\n",
       "      <td>5.815564</td>\n",
       "      <td>0.0</td>\n",
       "      <td>0.0</td>\n",
       "      <td>6.0</td>\n",
       "      <td>12.0</td>\n",
       "      <td>16.0</td>\n",
       "    </tr>\n",
       "    <tr>\n",
       "      <th>input63</th>\n",
       "      <td>5620.0</td>\n",
       "      <td>2.093594</td>\n",
       "      <td>4.047959</td>\n",
       "      <td>0.0</td>\n",
       "      <td>0.0</td>\n",
       "      <td>0.0</td>\n",
       "      <td>2.0</td>\n",
       "      <td>16.0</td>\n",
       "    </tr>\n",
       "    <tr>\n",
       "      <th>input64</th>\n",
       "      <td>5620.0</td>\n",
       "      <td>0.254093</td>\n",
       "      <td>1.418558</td>\n",
       "      <td>0.0</td>\n",
       "      <td>0.0</td>\n",
       "      <td>0.0</td>\n",
       "      <td>0.0</td>\n",
       "      <td>16.0</td>\n",
       "    </tr>\n",
       "    <tr>\n",
       "      <th>class</th>\n",
       "      <td>5620.0</td>\n",
       "      <td>4.495196</td>\n",
       "      <td>2.868131</td>\n",
       "      <td>0.0</td>\n",
       "      <td>2.0</td>\n",
       "      <td>4.0</td>\n",
       "      <td>7.0</td>\n",
       "      <td>9.0</td>\n",
       "    </tr>\n",
       "  </tbody>\n",
       "</table>\n",
       "<p>65 rows × 8 columns</p>\n",
       "</div>"
      ],
      "text/plain": [
       "          count       mean       std  min   25%   50%   75%   max\n",
       "input1   5620.0   0.000000  0.000000  0.0   0.0   0.0   0.0   0.0\n",
       "input2   5620.0   0.302135  0.879962  0.0   0.0   0.0   0.0   8.0\n",
       "input3   5620.0   5.393238  4.672719  0.0   1.0   5.0   9.0  16.0\n",
       "input4   5620.0  11.815480  4.255952  0.0  10.0  13.0  15.0  16.0\n",
       "input5   5620.0  11.578292  4.462546  0.0   9.0  13.0  15.0  16.0\n",
       "...         ...        ...       ...  ...   ...   ...   ...   ...\n",
       "input61  5620.0  11.572420  4.975675  0.0   9.0  13.0  16.0  16.0\n",
       "input62  5620.0   6.720819  5.815564  0.0   0.0   6.0  12.0  16.0\n",
       "input63  5620.0   2.093594  4.047959  0.0   0.0   0.0   2.0  16.0\n",
       "input64  5620.0   0.254093  1.418558  0.0   0.0   0.0   0.0  16.0\n",
       "class    5620.0   4.495196  2.868131  0.0   2.0   4.0   7.0   9.0\n",
       "\n",
       "[65 rows x 8 columns]"
      ]
     },
     "execution_count": 159,
     "metadata": {},
     "output_type": "execute_result"
    }
   ],
   "source": [
    "# decscribe the dataset\n",
    "digits.describe().T"
   ]
  },
  {
   "cell_type": "code",
   "execution_count": 160,
   "metadata": {},
   "outputs": [
    {
     "data": {
      "text/plain": [
       "input1     0\n",
       "input2     0\n",
       "input3     0\n",
       "input4     0\n",
       "input5     0\n",
       "          ..\n",
       "input61    0\n",
       "input62    0\n",
       "input63    0\n",
       "input64    0\n",
       "class      0\n",
       "Length: 65, dtype: int64"
      ]
     },
     "execution_count": 160,
     "metadata": {},
     "output_type": "execute_result"
    }
   ],
   "source": [
    "# Display the No. of Empty Columns for each attribute\n",
    "digits.isnull().sum()"
   ]
  },
  {
   "attachments": {},
   "cell_type": "markdown",
   "metadata": {},
   "source": [
    "As we can see, All the fields are of type integer and doesn't have any missing values. Hence there's no need for any preprocessing. So now we try to visualize the data."
   ]
  },
  {
   "attachments": {},
   "cell_type": "markdown",
   "metadata": {},
   "source": [
    "## **Visualize the dataset**"
   ]
  },
  {
   "attachments": {},
   "cell_type": "markdown",
   "metadata": {},
   "source": [
    "Print the image produced by 1st record (row.)"
   ]
  },
  {
   "cell_type": "code",
   "execution_count": 161,
   "metadata": {},
   "outputs": [
    {
     "data": {
      "image/png": "[encoded data removed]",
      "text/plain": [
       "<Figure size 640x480 with 1 Axes>"
      ]
     },
     "metadata": {},
     "output_type": "display_data"
    }
   ],
   "source": [
    "import matplotlib.pyplot as plt\n",
    "\n",
    "X = digits.drop(['class'], axis = 1)\n",
    "y = digits['class']\n",
    "\n",
    "# Convert Dataframe to Numpy Array to display the image.\n",
    "db = X.values\n",
    "sample = db[0].reshape(8,8)\n",
    "\n",
    "plt.imshow(sample,cmap='binary')\n",
    "plt.title(y[0])\n",
    "plt.show()\n"
   ]
  },
  {
   "attachments": {},
   "cell_type": "markdown",
   "metadata": {},
   "source": [
    "Now print the images produced by top 15 records"
   ]
  },
  {
   "cell_type": "code",
   "execution_count": 162,
   "metadata": {},
   "outputs": [
    {
     "data": {
      "image/png": "[encoded data removed]",
      "text/plain": [
       "<Figure size 1500x700 with 15 Axes>"
      ]
     },
     "metadata": {},
     "output_type": "display_data"
    }
   ],
   "source": [
    "import matplotlib.pyplot as plt\n",
    "\n",
    "def plot_multi(nplots):\n",
    "\n",
    "    plt.figure(figsize=(15,7))\n",
    "\n",
    "    for i in range(nplots):\n",
    "        plt.subplot(3,5,i+1)\n",
    "        sample = db[i].reshape(8,8)\n",
    "        plt.imshow(sample, cmap='binary')\n",
    "        plt.title(y[i])\n",
    "        plt.axis('off')\n",
    "        \n",
    "    plt.show()\n",
    "\n",
    "plot_multi(15)"
   ]
  },
  {
   "attachments": {},
   "cell_type": "markdown",
   "metadata": {},
   "source": [
    "## **Data split for training and testing**"
   ]
  },
  {
   "cell_type": "code",
   "execution_count": 163,
   "metadata": {},
   "outputs": [],
   "source": [
    "# Create feature and target arrays\n",
    "X = digits.drop(['class'], axis = 1)\n",
    "y = digits['class']"
   ]
  },
  {
   "cell_type": "code",
   "execution_count": 164,
   "metadata": {
    "_uuid": "92da07bae4a2f5025e7859ea27fae46edbe42de1"
   },
   "outputs": [],
   "source": [
    "from sklearn.model_selection import train_test_split\n",
    "\n",
    "# Split into training and test set\n",
    "X_train, X_test, y_train, y_test = train_test_split(X,y, test_size = 0.2, random_state=42, stratify=y)\n"
   ]
  },
  {
   "attachments": {},
   "cell_type": "markdown",
   "metadata": {},
   "source": [
    "## **Multi-Layer Perceptron Classifier (MLP)**\n",
    "MLP stands for multi-layer perceptron. It consists of densely connected layers that translate any input dimension to the required dimension.\n",
    "<br>\n",
    "A multi-layer perception is a neural network with multiple layers. To build a neural network, we connect neurons so that their outputs become the inputs of other neurons."
   ]
  },
  {
   "attachments": {},
   "cell_type": "markdown",
   "metadata": {},
   "source": [
    "\n",
    "![Neural Network Diagram](https://raw.githubusercontent.com/cbernet/maldives/master/handwritten_digits_sklearn/simple_dense.png)\n",
    "<br>\n",
    "### **We will make a very simple neural network, with four layers:**\n",
    "\n",
    "* An input layer, with 64 nodes, one node per pixel in the input images. Nodes are neurons that actually do nothing. They just take their input value and send it to the neurons of the next layer.\n",
    "\n",
    "* A hidden layer with 100 neurons. We could choose a different number, and also add more hidden layers with different numbers of neurons.\n",
    "\n",
    "* Another hidden with 50 nerurons.\n",
    "\n",
    "* An output layer with 10 neurons corresponding to our 10 classes of digits, from 0 to 9."
   ]
  },
  {
   "attachments": {},
   "cell_type": "markdown",
   "metadata": {},
   "source": [
    "The input layer requires a 1-dimensional array in input, So let's check for it."
   ]
  },
  {
   "cell_type": "code",
   "execution_count": 165,
   "metadata": {},
   "outputs": [
    {
     "data": {
      "text/plain": [
       "(5620, 64)"
      ]
     },
     "execution_count": 165,
     "metadata": {},
     "output_type": "execute_result"
    }
   ],
   "source": [
    "X.shape"
   ]
  },
  {
   "cell_type": "code",
   "execution_count": 166,
   "metadata": {},
   "outputs": [
    {
     "data": {
      "text/plain": [
       "0.9813167259786477"
      ]
     },
     "execution_count": 166,
     "metadata": {},
     "output_type": "execute_result"
    }
   ],
   "source": [
    "from sklearn.neural_network import MLPClassifier\n",
    "\n",
    "mlp = MLPClassifier(hidden_layer_sizes=(100,50,), activation='logistic', alpha=0.0001,\n",
    "                    solver='sgd', tol=0.0001, random_state=1,\n",
    "                    learning_rate_init=0.1)\n",
    "\n",
    "mlp.fit(X_train,y_train)\n",
    "mlp.score(X_test,y_test)"
   ]
  },
  {
   "cell_type": "code",
   "execution_count": 167,
   "metadata": {},
   "outputs": [
    {
     "data": {
      "image/png": "[encoded data removed]",
      "text/plain": [
       "<Figure size 640x480 with 1 Axes>"
      ]
     },
     "metadata": {},
     "output_type": "display_data"
    }
   ],
   "source": [
    "fig, axes = plt.subplots(1, 1)\n",
    "axes.plot(mlp.loss_curve_, 'o-')\n",
    "axes.set_xlabel(\"number of iteration\")\n",
    "axes.set_ylabel(\"loss\")\n",
    "plt.show()"
   ]
  },
  {
   "attachments": {},
   "cell_type": "markdown",
   "metadata": {},
   "source": [
    "## **Model Perfomance Evaluation**\n",
    "Now let’s check the performance of the model using the recognition dataset or it just has memorized it. We will do this by using the leftover testing data so, that we can check whether the model has learned the actual pattern in the digit "
   ]
  },
  {
   "cell_type": "code",
   "execution_count": 168,
   "metadata": {},
   "outputs": [
    {
     "data": {
      "text/plain": [
       "array([5, 1, 4, 0, 2, 0, 8, 3, 0, 2, 3, 1, 8, 3, 4, 5, 8, 9, 7, 4, 6, 6,\n",
       "       1, 0, 8, 8, 3, 0, 5, 9, 5, 7, 1, 9, 2, 9, 9, 4, 5, 2, 3, 2, 9, 1,\n",
       "       4, 1, 1, 4, 5, 7], dtype=int64)"
      ]
     },
     "execution_count": 168,
     "metadata": {},
     "output_type": "execute_result"
    }
   ],
   "source": [
    "# Evaluate the model on the test set\n",
    "y_pred = mlp.predict(X_test)\n",
    "y_pred[:50]  # Display the first 50 y_pred"
   ]
  },
  {
   "attachments": {},
   "cell_type": "markdown",
   "metadata": {},
   "source": [
    "These predictions of label should be fairly close to the targets of our training sample. Let's check by eye (please compare the values of these arrays)"
   ]
  },
  {
   "cell_type": "code",
   "execution_count": 169,
   "metadata": {},
   "outputs": [
    {
     "data": {
      "text/plain": [
       "array([8, 1, 4, 0, 2, 0, 8, 3, 0, 2, 3, 1, 8, 3, 4, 5, 8, 9, 7, 4, 6, 6,\n",
       "       1, 0, 8, 8, 3, 0, 5, 9, 5, 7, 1, 9, 2, 9, 9, 4, 5, 2, 3, 2, 9, 1,\n",
       "       4, 1, 1, 4, 5, 7], dtype=int64)"
      ]
     },
     "execution_count": 169,
     "metadata": {},
     "output_type": "execute_result"
    }
   ],
   "source": [
    "# true labels for the 1st 50 examples in the test sample\n",
    "np.array(y_test[:50])"
   ]
  },
  {
   "attachments": {},
   "cell_type": "markdown",
   "metadata": {},
   "source": [
    "Not bad! we see that most (if not all) y_pred match the true labels.\n",
    "<br>\n",
    "But can we be a bit more quantitative? We can compute the accuracy of the classifier, which the probability for a digit to be classified in the right category."
   ]
  },
  {
   "cell_type": "code",
   "execution_count": 170,
   "metadata": {},
   "outputs": [
    {
     "data": {
      "text/plain": [
       "0.9813167259786477"
      ]
     },
     "execution_count": 170,
     "metadata": {},
     "output_type": "execute_result"
    }
   ],
   "source": [
    "# print the accuracy score of the model on the test set using score() method\n",
    "mlp.score(X_test,y_test)"
   ]
  },
  {
   "cell_type": "code",
   "execution_count": 171,
   "metadata": {},
   "outputs": [
    {
     "name": "stdout",
     "output_type": "stream",
     "text": [
      "Accuracy Score :  0.9813167259786477\n",
      "Precision Score :  0.9813167259786477\n",
      "Recall Score :  0.9813167259786477\n",
      "F1-score: 0.981312122460471\n"
     ]
    }
   ],
   "source": [
    "# importing the accuracy_score, precision_score, recall_score, f1_score  from the sklearn\n",
    "from sklearn.metrics import accuracy_score, precision_score, recall_score, f1_score\n",
    " \n",
    "# calculating the accuracy, precision, recall and f1-score with y_test and y_pred\n",
    "print(\"Accuracy Score : \",accuracy_score(y_test, y_pred))\n",
    "print(\"Precision Score : \",precision_score(y_test, y_pred , average='micro'))\n",
    "print(\"Recall Score : \",recall_score(y_test, y_pred , average='micro'))\n",
    "print('F1-score:', f1_score(y_test, y_pred, average='weighted'))"
   ]
  },
  {
   "attachments": {},
   "cell_type": "markdown",
   "metadata": {},
   "source": [
    "This number is the probability for the digits in the test sample to be classified in the right category, meaning that we get 97.0% of the digits right, and 3.0% wrong."
   ]
  },
  {
   "cell_type": "code",
   "execution_count": 172,
   "metadata": {},
   "outputs": [
    {
     "name": "stdout",
     "output_type": "stream",
     "text": [
      "              precision    recall  f1-score   support\n",
      "\n",
      "           0       0.99      0.99      0.99       111\n",
      "           1       0.98      0.97      0.98       114\n",
      "           2       1.00      0.99      1.00       111\n",
      "           3       0.98      1.00      0.99       114\n",
      "           4       0.98      1.00      0.99       114\n",
      "           5       0.96      0.96      0.96       112\n",
      "           6       0.99      0.98      0.99       112\n",
      "           7       0.99      0.99      0.99       113\n",
      "           8       0.95      0.96      0.96       111\n",
      "           9       0.98      0.96      0.97       112\n",
      "\n",
      "    accuracy                           0.98      1124\n",
      "   macro avg       0.98      0.98      0.98      1124\n",
      "weighted avg       0.98      0.98      0.98      1124\n",
      "\n"
     ]
    }
   ],
   "source": [
    "from sklearn.metrics import classification_report\n",
    "\n",
    "# Print the classification report\n",
    "print(classification_report(y_test ,y_pred))"
   ]
  },
  {
   "cell_type": "code",
   "execution_count": 173,
   "metadata": {},
   "outputs": [
    {
     "data": {
      "image/png": "[encoded data removed]",
      "text/plain": [
       "<Figure size 640x480 with 2 Axes>"
      ]
     },
     "metadata": {},
     "output_type": "display_data"
    }
   ],
   "source": [
    "import seaborn as sns\n",
    "import matplotlib.pyplot as plt\n",
    "from sklearn.metrics import confusion_matrix\n",
    "\n",
    "# Compute confusion matrix\n",
    "cnf_matrix = confusion_matrix(y_test, y_pred)\n",
    "\n",
    "# Plot confusion matrix using Seaborn heatmap\n",
    "sns.heatmap(cnf_matrix, annot=True, fmt='g')\n",
    "plt.title(\"Confusion Matrix\")\n",
    "plt.xlabel(\"Predicted Label\")\n",
    "plt.ylabel(\"True Label\")\n",
    "plt.show()\n"
   ]
  },
  {
   "cell_type": "code",
   "execution_count": 174,
   "metadata": {},
   "outputs": [
    {
     "data": {
      "image/png": "[encoded data removed]",
      "text/plain": [
       "<Figure size 640x480 with 1 Axes>"
      ]
     },
     "metadata": {},
     "output_type": "display_data"
    }
   ],
   "source": [
    "# Generate ROC curve and calculate AUC score\n",
    "from sklearn.metrics import roc_auc_score, roc_curve\n",
    "\n",
    "\n",
    "probs = mlp.predict_proba(X_test)\n",
    "fpr, tpr, thresholds = roc_curve(y_test, probs[:, 1], pos_label=1)\n",
    "roc_auc = roc_auc_score(y_test, probs, multi_class='ovr')\n",
    "\n",
    "# Plot ROC curve\n",
    "plt.plot(fpr, tpr, color='blue', lw=2, label='ROC curve (area = %0.2f)' % roc_auc)\n",
    "plt.plot([0, 1], [0, 1], color='gray', lw=2, linestyle='--')\n",
    "plt.xlabel('False Positive Rate')\n",
    "plt.ylabel('True Positive Rate')\n",
    "plt.title('Receiver Operating Characteristic (ROC) Curve')\n",
    "plt.legend(loc=\"lower right\")\n",
    "plt.show()"
   ]
  }
 ],
 "metadata": {
  "kernelspec": {
   "display_name": "Python 3",
   "language": "python",
   "name": "python3"
  },
  "language_info": {
   "codemirror_mode": {
    "name": "ipython",
    "version": 3
   },
   "file_extension": ".py",
   "mimetype": "text/x-python",
   "name": "python",
   "nbconvert_exporter": "python",
   "pygments_lexer": "ipython3",
   "version": "3.11.3"
  }
 },
 "nbformat": 4,
 "nbformat_minor": 1
}
